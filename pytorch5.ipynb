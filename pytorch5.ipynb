{
 "cells": [
  {
   "cell_type": "code",
   "execution_count": 1,
   "id": "08ad59e7",
   "metadata": {},
   "outputs": [
    {
     "name": "stdout",
     "output_type": "stream",
     "text": [
      "./kagglecatsanddogs_3367a/PetImages/Cat/\n"
     ]
    },
    {
     "name": "stderr",
     "output_type": "stream",
     "text": [
      " 21%|██████████▉                                         | 2642/12501 [00:01<00:05, 1714.41it/s]Corrupt JPEG data: 1153 extraneous bytes before marker 0xd9\n",
      " 39%|████████████████████▌                               | 4931/12501 [00:02<00:04, 1715.55it/s]Corrupt JPEG data: 214 extraneous bytes before marker 0xd9\n",
      " 54%|████████████████████████████▎                       | 6812/12501 [00:03<00:03, 1659.07it/s]Corrupt JPEG data: 99 extraneous bytes before marker 0xd9\n",
      " 61%|███████████████████████████████▉                    | 7676/12501 [00:04<00:02, 1706.09it/s]Corrupt JPEG data: 239 extraneous bytes before marker 0xd9\n",
      " 81%|█████████████████████████████████████████▏         | 10109/12501 [00:05<00:01, 1736.40it/s]Corrupt JPEG data: 128 extraneous bytes before marker 0xd9\n",
      "100%|███████████████████████████████████████████████████| 12501/12501 [00:07<00:00, 1714.95it/s]\n"
     ]
    },
    {
     "name": "stdout",
     "output_type": "stream",
     "text": [
      "./kagglecatsanddogs_3367a/PetImages/Dog/\n"
     ]
    },
    {
     "name": "stderr",
     "output_type": "stream",
     "text": [
      "  9%|████▋                                               | 1113/12501 [00:00<00:07, 1480.01it/s]Corrupt JPEG data: 2230 extraneous bytes before marker 0xd9\n",
      " 50%|█████████████████████████▉                          | 6245/12501 [00:03<00:03, 1613.43it/s]Corrupt JPEG data: 399 extraneous bytes before marker 0xd9\n",
      " 51%|██████████████████████████▋                         | 6407/12501 [00:04<00:03, 1610.21it/s]Corrupt JPEG data: 162 extraneous bytes before marker 0xd9\n",
      " 54%|███████████████████████████▉                        | 6730/12501 [00:04<00:03, 1605.41it/s]Warning: unknown JFIF revision number 0.00\n",
      " 56%|█████████████████████████████▎                      | 7051/12501 [00:04<00:03, 1582.83it/s]Corrupt JPEG data: 1403 extraneous bytes before marker 0xd9\n",
      " 66%|██████████████████████████████████                  | 8189/12501 [00:05<00:02, 1595.69it/s]Corrupt JPEG data: 254 extraneous bytes before marker 0xd9\n",
      " 86%|███████████████████████████████████████████▊       | 10728/12501 [00:06<00:01, 1565.82it/s]Corrupt JPEG data: 65 extraneous bytes before marker 0xd9\n",
      " 87%|████████████████████████████████████████████▍      | 10885/12501 [00:06<00:01, 1530.30it/s]Corrupt JPEG data: 226 extraneous bytes before marker 0xd9\n",
      "100%|███████████████████████████████████████████████████| 12501/12501 [00:07<00:00, 1568.80it/s]\n",
      "/home/matt/.local/share/virtualenvs/Neural-Network-From-Scratch-JmgbtXSz/lib/python3.9/site-packages/numpy/lib/npyio.py:528: VisibleDeprecationWarning: Creating an ndarray from ragged nested sequences (which is a list-or-tuple of lists-or-tuples-or ndarrays with different lengths or shapes) is deprecated. If you meant to do this, you must specify 'dtype=object' when creating the ndarray.\n",
      "  arr = np.asanyarray(arr)\n"
     ]
    },
    {
     "name": "stdout",
     "output_type": "stream",
     "text": [
      "Cats: 12476\n",
      "Dogs: 12470\n"
     ]
    }
   ],
   "source": [
    "import os\n",
    "import cv2\n",
    "import numpy as np\n",
    "from tqdm import tqdm\n",
    "\n",
    "REBUILD_DATA = True\n",
    "\n",
    "class DogsVSCats:\n",
    "    IMG_SIZE = 50\n",
    "    CATS = \"./kagglecatsanddogs_3367a/PetImages/Cat/\"\n",
    "    DOGS = \"./kagglecatsanddogs_3367a/PetImages/Dog/\"\n",
    "    LABELS = {CATS: 0, DOGS: 1}\n",
    "    training_data = []\n",
    "    catcount = 0\n",
    "    dogcount = 0\n",
    "    \n",
    "    def make_training_data(self):\n",
    "        for label in self.LABELS:\n",
    "            print(label)\n",
    "            for f in tqdm(os.listdir(label)):\n",
    "                try:\n",
    "                    path = os.path.join(label, f)\n",
    "                    img = cv2.imread(path, cv2.IMREAD_GRAYSCALE)\n",
    "                    img = cv2.resize(img, (self.IMG_SIZE, self.IMG_SIZE))\n",
    "                    self.training_data.append([np.array(img), np.eye(2)[self.LABELS[label]]])\n",
    "\n",
    "                    if label == self.CATS:\n",
    "                        self.catcount += 1\n",
    "                    elif label == self.DOGS:\n",
    "                        self.dogcount += 1\n",
    "                except Exception as e:\n",
    "                    pass\n",
    "        \n",
    "        np.random.shuffle(self.training_data)\n",
    "        np.save(\"traing_data.npy\", self.training_data)\n",
    "        print(f\"Cats: {self.catcount}\")\n",
    "        print(f\"Dogs: {self.dogcount}\")\n",
    "        \n",
    "if REBUILD_DATA:\n",
    "    dogsvcats = DogsVSCats()\n",
    "    dogsvcats.make_training_data()"
   ]
  },
  {
   "cell_type": "code",
   "execution_count": 4,
   "id": "8a9ab1d2",
   "metadata": {},
   "outputs": [],
   "source": [
    "training_data = np.load(\"traing_data.npy\", allow_pickle=True)"
   ]
  },
  {
   "cell_type": "code",
   "execution_count": 5,
   "id": "b418270a",
   "metadata": {},
   "outputs": [
    {
     "name": "stdout",
     "output_type": "stream",
     "text": [
      "24946\n"
     ]
    }
   ],
   "source": [
    "print(len(training_data))"
   ]
  },
  {
   "cell_type": "code",
   "execution_count": 6,
   "id": "d10ceeb6",
   "metadata": {},
   "outputs": [
    {
     "name": "stdout",
     "output_type": "stream",
     "text": [
      "[array([[130, 131, 129, ..., 122, 130, 133],\n",
      "        [129, 135, 129, ..., 119, 136, 135],\n",
      "        [133, 133, 129, ..., 121, 127, 138],\n",
      "        ...,\n",
      "        [136, 130, 131, ..., 123, 112, 106],\n",
      "        [122, 122, 131, ..., 111, 110, 104],\n",
      "        [113, 118, 131, ..., 107, 115, 107]], dtype=uint8) array([1., 0.])]\n"
     ]
    }
   ],
   "source": [
    "print(training_data[0])"
   ]
  },
  {
   "cell_type": "code",
   "execution_count": 8,
   "id": "8df9204b",
   "metadata": {},
   "outputs": [
    {
     "data": {
      "image/png": "[encoded data removed]",
      "text/plain": [
       "<Figure size 432x288 with 1 Axes>"
      ]
     },
     "metadata": {
      "needs_background": "light"
     },
     "output_type": "display_data"
    }
   ],
   "source": [
    "import matplotlib.pyplot as plt\n",
    "\n",
    "plt.imshow(training_data[1][0], cmap='gray')\n",
    "plt.show()"
   ]
  }
 ],
 "metadata": {
  "kernelspec": {
   "display_name": "Neural-Network-From-Scratch-JmgbtXSz",
   "language": "python",
   "name": "neural-network-from-scratch-jmgbtxsz"
  },
  "language_info": {
   "codemirror_mode": {
    "name": "ipython",
    "version": 3
   },
   "file_extension": ".py",
   "mimetype": "text/x-python",
   "name": "python",
   "nbconvert_exporter": "python",
   "pygments_lexer": "ipython3",
   "version": "3.9.6"
  }
 },
 "nbformat": 4,
 "nbformat_minor": 5
}
